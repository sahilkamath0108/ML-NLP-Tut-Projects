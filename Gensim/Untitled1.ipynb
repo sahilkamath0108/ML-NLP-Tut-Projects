{
 "cells": [
  {
   "cell_type": "code",
   "execution_count": 5,
   "id": "1b9e0b1e",
   "metadata": {},
   "outputs": [
    {
     "name": "stdout",
     "output_type": "stream",
     "text": [
      "Requirement already satisfied: fasttext in c:\\users\\hp\\anaconda3\\lib\\site-packages (0.9.2)\n",
      "Requirement already satisfied: setuptools>=0.7.0 in c:\\users\\hp\\anaconda3\\lib\\site-packages (from fasttext) (63.4.1)\n",
      "Requirement already satisfied: pybind11>=2.2 in c:\\users\\hp\\anaconda3\\lib\\site-packages (from fasttext) (2.11.1)\n",
      "Requirement already satisfied: numpy in c:\\users\\hp\\anaconda3\\lib\\site-packages (from fasttext) (1.21.5)\n"
     ]
    }
   ],
   "source": [
    "!pip install fasttext"
   ]
  },
  {
   "cell_type": "code",
   "execution_count": 6,
   "id": "3432971b",
   "metadata": {},
   "outputs": [
    {
     "name": "stderr",
     "output_type": "stream",
     "text": [
      "Warning : `load_model` does not return WordVectorModel or SupervisedModel any more, but a `FastText` object which is very similar.\n"
     ]
    }
   ],
   "source": [
    "import fasttext\n",
    "model_en = fasttext.load_model('C:\\\\Users\\\\Hp\\\\Desktop\\\\Code\\\\ml-projects\\\\ML-Projects\\\\Gensim\\\\cc.en.300.bin')"
   ]
  },
  {
   "cell_type": "code",
   "execution_count": 7,
   "id": "2506bb10",
   "metadata": {},
   "outputs": [
    {
     "data": {
      "text/plain": [
       "[(0.7517593502998352, 'bad'),\n",
       " (0.7426098585128784, 'great'),\n",
       " (0.7299689054489136, 'decent'),\n",
       " (0.7123614549636841, 'nice'),\n",
       " (0.6796907186508179, 'Good'),\n",
       " (0.6737031936645508, 'excellent'),\n",
       " (0.669592022895813, 'goood'),\n",
       " (0.6602178812026978, 'ggod'),\n",
       " (0.6479219794273376, 'semi-good'),\n",
       " (0.6417751908302307, 'good.Good')]"
      ]
     },
     "execution_count": 7,
     "metadata": {},
     "output_type": "execute_result"
    }
   ],
   "source": [
    "model_en.get_nearest_neighbors('good')"
   ]
  },
  {
   "cell_type": "code",
   "execution_count": 9,
   "id": "938e2bb3",
   "metadata": {},
   "outputs": [
    {
     "data": {
      "text/plain": [
       "['__class__',\n",
       " '__contains__',\n",
       " '__delattr__',\n",
       " '__dict__',\n",
       " '__dir__',\n",
       " '__doc__',\n",
       " '__eq__',\n",
       " '__format__',\n",
       " '__ge__',\n",
       " '__getattribute__',\n",
       " '__getitem__',\n",
       " '__gt__',\n",
       " '__hash__',\n",
       " '__init__',\n",
       " '__init_subclass__',\n",
       " '__le__',\n",
       " '__lt__',\n",
       " '__module__',\n",
       " '__ne__',\n",
       " '__new__',\n",
       " '__reduce__',\n",
       " '__reduce_ex__',\n",
       " '__repr__',\n",
       " '__setattr__',\n",
       " '__sizeof__',\n",
       " '__str__',\n",
       " '__subclasshook__',\n",
       " '__weakref__',\n",
       " '_labels',\n",
       " '_words',\n",
       " 'f',\n",
       " 'get_analogies',\n",
       " 'get_dimension',\n",
       " 'get_input_matrix',\n",
       " 'get_input_vector',\n",
       " 'get_label_id',\n",
       " 'get_labels',\n",
       " 'get_line',\n",
       " 'get_meter',\n",
       " 'get_nearest_neighbors',\n",
       " 'get_output_matrix',\n",
       " 'get_sentence_vector',\n",
       " 'get_subword_id',\n",
       " 'get_subwords',\n",
       " 'get_word_id',\n",
       " 'get_word_vector',\n",
       " 'get_words',\n",
       " 'is_quantized',\n",
       " 'labels',\n",
       " 'predict',\n",
       " 'quantize',\n",
       " 'save_model',\n",
       " 'set_args',\n",
       " 'set_matrices',\n",
       " 'test',\n",
       " 'test_label',\n",
       " 'words']"
      ]
     },
     "execution_count": 9,
     "metadata": {},
     "output_type": "execute_result"
    }
   ],
   "source": [
    "dir(model_en)"
   ]
  },
  {
   "cell_type": "code",
   "execution_count": 10,
   "id": "46eb7809",
   "metadata": {},
   "outputs": [
    {
     "data": {
      "text/plain": [
       "[(0.5499917268753052, 'baseball'),\n",
       " (0.4941214621067047, 'bats'),\n",
       " (0.478018194437027, 'catcher'),\n",
       " (0.47787177562713623, 'lineman'),\n",
       " (0.47513365745544434, 'quarterback'),\n",
       " (0.47407272458076477, 'outfielder'),\n",
       " (0.46974632143974304, 'noseguard'),\n",
       " (0.4685298800468445, 'baseman'),\n",
       " (0.4684654176235199, 'shortstop'),\n",
       " (0.46340325474739075, 'outfielders')]"
      ]
     },
     "execution_count": 10,
     "metadata": {},
     "output_type": "execute_result"
    }
   ],
   "source": [
    "model_en.get_analogies(\"bat\", \"cricket\", \"football\")"
   ]
  },
  {
   "cell_type": "code",
   "execution_count": 12,
   "id": "ed4fc6ab",
   "metadata": {},
   "outputs": [
    {
     "data": {
      "text/plain": [
       "[(0.5088878273963928, 'bike-ride'),\n",
       " (0.5080102682113647, 'pedaling'),\n",
       " (0.5052130222320557, 'ride'),\n",
       " (0.4914496839046478, 'biking'),\n",
       " (0.4867013096809387, 'bikeride'),\n",
       " (0.47908520698547363, 'bikes'),\n",
       " (0.47614744305610657, 'singlespeed'),\n",
       " (0.4756687879562378, 'dirve'),\n",
       " (0.4691274166107178, 'drives'),\n",
       " (0.4676426947116852, 'singlespeeds')]"
      ]
     },
     "execution_count": 12,
     "metadata": {},
     "output_type": "execute_result"
    }
   ],
   "source": [
    "model_en.get_analogies('drive','car','bike')"
   ]
  },
  {
   "cell_type": "code",
   "execution_count": null,
   "id": "73c9ad85",
   "metadata": {},
   "outputs": [],
   "source": []
  }
 ],
 "metadata": {
  "kernelspec": {
   "display_name": "Python 3 (ipykernel)",
   "language": "python",
   "name": "python3"
  },
  "language_info": {
   "codemirror_mode": {
    "name": "ipython",
    "version": 3
   },
   "file_extension": ".py",
   "mimetype": "text/x-python",
   "name": "python",
   "nbconvert_exporter": "python",
   "pygments_lexer": "ipython3",
   "version": "3.9.13"
  }
 },
 "nbformat": 4,
 "nbformat_minor": 5
}
